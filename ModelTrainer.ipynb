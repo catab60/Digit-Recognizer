{
 "cells": [
  {
   "cell_type": "code",
   "execution_count": 1,
   "id": "5dc2a242-d337-4d75-938f-1227590092ae",
   "metadata": {},
   "outputs": [],
   "source": [
    "import torch\n",
    "import torch.nn as nn\n",
    "import torchvision\n",
    "import torchvision.transforms as transforms\n",
    "import matplotlib.pyplot as plt"
   ]
  },
  {
   "cell_type": "code",
   "execution_count": 2,
   "id": "9979895d-dbfb-4352-9a14-7d398b558d3d",
   "metadata": {},
   "outputs": [],
   "source": [
    "device = torch.device(\"cuda\" if torch.cuda.is_available() else \"cpu\")"
   ]
  },
  {
   "cell_type": "code",
   "execution_count": 3,
   "id": "0d2af4d7-b956-4995-86a7-b16ceb951739",
   "metadata": {},
   "outputs": [],
   "source": [
    "input_size = 784\n",
    "hidden_size = 500\n",
    "num_classes = 10\n",
    "num_epochs = 10\n",
    "batch_size = 100\n",
    "learning_rate = 0.001"
   ]
  },
  {
   "cell_type": "code",
   "execution_count": 4,
   "id": "b7ccd720-ab4b-47ca-bb04-d2cc848e349b",
   "metadata": {},
   "outputs": [],
   "source": [
    "train_dataset = torchvision.datasets.MNIST(root=\"./data\",\n",
    "                                           train=True,\n",
    "                                           transform=transforms.ToTensor(),\n",
    "                                           download=True)\n",
    "test_dataset = torchvision.datasets.MNIST(root=\"./data\",\n",
    "                                          train=False,\n",
    "                                          transform=transforms.ToTensor())"
   ]
  },
  {
   "cell_type": "code",
   "execution_count": 5,
   "id": "95fc56ee-cb0c-4fe9-b5a2-c25763d88d40",
   "metadata": {},
   "outputs": [],
   "source": [
    "train_loader = torch.utils.data.DataLoader(dataset=train_dataset,\n",
    "                                                 batch_size=batch_size,\n",
    "                                                 shuffle=True)\n",
    "\n",
    "test_loader = torch.utils.data.DataLoader(dataset=test_dataset,\n",
    "                                          batch_size=batch_size,\n",
    "                                          shuffle=False)"
   ]
  },
  {
   "cell_type": "code",
   "execution_count": 6,
   "id": "fb4f0e9e-6d53-448e-80c8-3f639b0cee66",
   "metadata": {},
   "outputs": [
    {
     "data": {
      "image/png": "[encoded data removed]",
      "text/plain": [
       "<Figure size 640x480 with 6 Axes>"
      ]
     },
     "metadata": {},
     "output_type": "display_data"
    }
   ],
   "source": [
    "example = iter(test_loader)\n",
    "example_data, example_targets = next(example)\n",
    "\n",
    "for i in range(6):\n",
    "    plt.subplot(2,3,i+1)\n",
    "    plt.imshow(example_data[i][0], cmap=\"gray\")\n",
    "plt.show()"
   ]
  },
  {
   "cell_type": "code",
   "execution_count": 7,
   "id": "cfcdffa0-37eb-4cd3-a083-e83e55f1d14a",
   "metadata": {},
   "outputs": [],
   "source": [
    "class NN(nn.Module):\n",
    "    def __init__(self, input_size, hidden_size, num_classes):\n",
    "        super().__init__()\n",
    "        self.l1 = nn.Linear(input_size, hidden_size)\n",
    "        self.relu = nn.ReLU()\n",
    "        self.l2 = nn.Linear(hidden_size, num_classes)\n",
    "\n",
    "    def forward(self, x):\n",
    "        return self.l2(self.relu(self.l1(x)))\n",
    "\n",
    "\n",
    "model = NN(input_size, hidden_size, num_classes).to(device)"
   ]
  },
  {
   "cell_type": "code",
   "execution_count": 8,
   "id": "9a1777d8-575f-4010-8a7a-5269f1f612b6",
   "metadata": {},
   "outputs": [],
   "source": [
    "criterion = nn.CrossEntropyLoss()\n",
    "optimizer = torch.optim.Adam(model.parameters(), lr=learning_rate)"
   ]
  },
  {
   "cell_type": "code",
   "execution_count": 9,
   "id": "e93ff876-892d-4bc5-8b7a-c1246d7bc7c7",
   "metadata": {},
   "outputs": [
    {
     "name": "stdout",
     "output_type": "stream",
     "text": [
      "Epoch: [1/10], Step: [100/600], Loss: 0.2832\n",
      "Epoch: [1/10], Step: [200/600], Loss: 0.5666\n",
      "Epoch: [1/10], Step: [300/600], Loss: 0.1943\n",
      "Epoch: [1/10], Step: [400/600], Loss: 0.3470\n",
      "Epoch: [1/10], Step: [500/600], Loss: 0.2286\n",
      "Epoch: [1/10], Step: [600/600], Loss: 0.1585\n",
      "Epoch: [2/10], Step: [100/600], Loss: 0.1483\n",
      "Epoch: [2/10], Step: [200/600], Loss: 0.0669\n",
      "Epoch: [2/10], Step: [300/600], Loss: 0.1079\n",
      "Epoch: [2/10], Step: [400/600], Loss: 0.0425\n",
      "Epoch: [2/10], Step: [500/600], Loss: 0.1339\n",
      "Epoch: [2/10], Step: [600/600], Loss: 0.0997\n",
      "Epoch: [3/10], Step: [100/600], Loss: 0.0363\n",
      "Epoch: [3/10], Step: [200/600], Loss: 0.0890\n",
      "Epoch: [3/10], Step: [300/600], Loss: 0.0588\n",
      "Epoch: [3/10], Step: [400/600], Loss: 0.0647\n",
      "Epoch: [3/10], Step: [500/600], Loss: 0.0915\n",
      "Epoch: [3/10], Step: [600/600], Loss: 0.0536\n",
      "Epoch: [4/10], Step: [100/600], Loss: 0.0340\n",
      "Epoch: [4/10], Step: [200/600], Loss: 0.0419\n",
      "Epoch: [4/10], Step: [300/600], Loss: 0.0185\n",
      "Epoch: [4/10], Step: [400/600], Loss: 0.0320\n",
      "Epoch: [4/10], Step: [500/600], Loss: 0.1711\n",
      "Epoch: [4/10], Step: [600/600], Loss: 0.0140\n",
      "Epoch: [5/10], Step: [100/600], Loss: 0.0487\n",
      "Epoch: [5/10], Step: [200/600], Loss: 0.0267\n",
      "Epoch: [5/10], Step: [300/600], Loss: 0.0888\n",
      "Epoch: [5/10], Step: [400/600], Loss: 0.0286\n",
      "Epoch: [5/10], Step: [500/600], Loss: 0.0475\n",
      "Epoch: [5/10], Step: [600/600], Loss: 0.0562\n",
      "Epoch: [6/10], Step: [100/600], Loss: 0.0131\n",
      "Epoch: [6/10], Step: [200/600], Loss: 0.0440\n",
      "Epoch: [6/10], Step: [300/600], Loss: 0.0099\n",
      "Epoch: [6/10], Step: [400/600], Loss: 0.0243\n",
      "Epoch: [6/10], Step: [500/600], Loss: 0.0159\n",
      "Epoch: [6/10], Step: [600/600], Loss: 0.0827\n",
      "Epoch: [7/10], Step: [100/600], Loss: 0.0257\n",
      "Epoch: [7/10], Step: [200/600], Loss: 0.0125\n",
      "Epoch: [7/10], Step: [300/600], Loss: 0.0226\n",
      "Epoch: [7/10], Step: [400/600], Loss: 0.0096\n",
      "Epoch: [7/10], Step: [500/600], Loss: 0.1138\n",
      "Epoch: [7/10], Step: [600/600], Loss: 0.0307\n",
      "Epoch: [8/10], Step: [100/600], Loss: 0.0182\n",
      "Epoch: [8/10], Step: [200/600], Loss: 0.0033\n",
      "Epoch: [8/10], Step: [300/600], Loss: 0.0083\n",
      "Epoch: [8/10], Step: [400/600], Loss: 0.0407\n",
      "Epoch: [8/10], Step: [500/600], Loss: 0.0143\n",
      "Epoch: [8/10], Step: [600/600], Loss: 0.0087\n",
      "Epoch: [9/10], Step: [100/600], Loss: 0.0440\n",
      "Epoch: [9/10], Step: [200/600], Loss: 0.0142\n",
      "Epoch: [9/10], Step: [300/600], Loss: 0.0033\n",
      "Epoch: [9/10], Step: [400/600], Loss: 0.0013\n",
      "Epoch: [9/10], Step: [500/600], Loss: 0.0133\n",
      "Epoch: [9/10], Step: [600/600], Loss: 0.0062\n",
      "Epoch: [10/10], Step: [100/600], Loss: 0.0053\n",
      "Epoch: [10/10], Step: [200/600], Loss: 0.0022\n",
      "Epoch: [10/10], Step: [300/600], Loss: 0.0071\n",
      "Epoch: [10/10], Step: [400/600], Loss: 0.0162\n",
      "Epoch: [10/10], Step: [500/600], Loss: 0.0088\n",
      "Epoch: [10/10], Step: [600/600], Loss: 0.0125\n"
     ]
    }
   ],
   "source": [
    "n_total_steps = len(train_loader)\n",
    "for epoch in range(num_epochs):\n",
    "    for i, (images, labels) in enumerate(train_loader):\n",
    "        images = images.reshape(-1, 28*28).to(device)\n",
    "        labels = labels.to(device)\n",
    "\n",
    "        outputs = model(images)\n",
    "        loss = criterion(outputs, labels)\n",
    "\n",
    "        loss.backward()\n",
    "        optimizer.step()\n",
    "        optimizer.zero_grad()\n",
    "\n",
    "        if (i+1)%100 ==0:\n",
    "            print(f'Epoch: [{epoch+1}/{num_epochs}], Step: [{i+1}/{n_total_steps}], Loss: {loss.item():.4f}')\n",
    "        "
   ]
  },
  {
   "cell_type": "code",
   "execution_count": 10,
   "id": "a7731f6e-2386-4aff-b104-0853a7e214b3",
   "metadata": {},
   "outputs": [
    {
     "name": "stdout",
     "output_type": "stream",
     "text": [
      "Accuracy on 10000 test images: 97.81%\n"
     ]
    }
   ],
   "source": [
    "with torch.no_grad():\n",
    "    n_correct = 0\n",
    "    n_samples = len(test_loader.dataset)\n",
    "\n",
    "    for images, labels in test_loader:\n",
    "        images = images.reshape(-1, 28*28).to(device)\n",
    "        labels = labels.to(device)\n",
    "\n",
    "        outputs = model(images)\n",
    "\n",
    "        predicted = torch.max(outputs,1)\n",
    "        n_correct += (predicted[1] == labels).sum().item()\n",
    "\n",
    "    acc = n_correct / n_samples\n",
    "    print(f\"Accuracy on {n_samples} test images: {100*acc}%\")"
   ]
  },
  {
   "cell_type": "code",
   "execution_count": 11,
   "id": "ab4aa0dc-dbe0-40f8-8c6f-1840fe8a5410",
   "metadata": {},
   "outputs": [],
   "source": [
    "torch.save(model.state_dict(), \"model.pth\")"
   ]
  }
 ],
 "metadata": {
  "kernelspec": {
   "display_name": "Python 3 (ipykernel)",
   "language": "python",
   "name": "python3"
  },
  "language_info": {
   "codemirror_mode": {
    "name": "ipython",
    "version": 3
   },
   "file_extension": ".py",
   "mimetype": "text/x-python",
   "name": "python",
   "nbconvert_exporter": "python",
   "pygments_lexer": "ipython3",
   "version": "3.10.16"
  }
 },
 "nbformat": 4,
 "nbformat_minor": 5
}
